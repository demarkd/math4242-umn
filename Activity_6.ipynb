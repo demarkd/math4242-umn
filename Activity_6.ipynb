{
 "cells": [
  {
   "cell_type": "markdown",
   "id": "7cd1886f-87b1-486c-997b-40490be725b0",
   "metadata": {},
   "source": [
    "# Activity 6: Eigenvectors and Eigenvalues of Symmetric Matrices"
   ]
  },
  {
   "cell_type": "code",
   "execution_count": null,
   "id": "14d7ec75-7316-4c43-9817-3ccb8775cecb",
   "metadata": {},
   "outputs": [],
   "source": [
    "import numpy as np\n",
    "from numpy import random as RA\n",
    "from numpy import linalg as LA"
   ]
  },
  {
   "cell_type": "markdown",
   "id": "1ee9619b",
   "metadata": {},
   "source": [
    "## Approximating eigenvalues and eigenvectors\n",
    "### Exercise 1: Some random utility functions\n",
    "Below, we'll embark on some approaches to computing eigenvectors and eigenvalues of symmetric matrices numerically.\n",
    "Before we do, we'll need a few random generation utility functions.\n",
    "`np.random.rand(n)` (for convenience, imported as `RA.rand(n)`) yields a vector of size `n` with entries given by a normally distributed pseudorandom selection on the interval $[0,1)$.\n",
    "Later, we'll need some means of selecting (lots of) random unit vectors.\n",
    "There's one complication to this: our unit vectors will need both positive and negative entries!\n",
    "Below is a function to supply a vector with entries normally distributed on $[-1,1)$ rather than $[0,1)$.\n",
    "\n",
    "**(a)** Use this to write a function which supplies a random unit vector."
   ]
  },
  {
   "cell_type": "code",
   "execution_count": null,
   "id": "6253fc2b",
   "metadata": {},
   "outputs": [],
   "source": [
    "def random_vector(n):\n",
    "    v=RA.random(n)\n",
    "    v=2*v-1\n",
    "    return v\n",
    "def random_unit_vector():\n",
    "    #YOUR CODE HERE\n",
    "    return"
   ]
  },
  {
   "cell_type": "code",
   "execution_count": null,
   "id": "ca740204",
   "metadata": {},
   "outputs": [],
   "source": [
    "#testing\n",
    "v=random_unit_vector(100)\n",
    "v_pos_table=np.array([vi>0 for vi in v])\n",
    "v_neg_table=np.array([vi<0 for vi in v])\n",
    "print(LA.norm(v),np.any(v_pos_table) and np.any(v_neg_table),sep=\",\")\n",
    "#Desired output: 1.0,True\n",
    "#You might get something like 0.9999999999999999,True -- that's also fine"
   ]
  },
  {
   "cell_type": "markdown",
   "id": "b31cb250",
   "metadata": {},
   "source": [
    "Later, it will also be useful to have a function to supply a random $n\\times n$ symmetric matrix. `RA.rand(n,n)` gives a random non-symmetric matrix with entries again distributed normally on $[0,1)$. \n",
    "\n",
    "**(b)** Write a function below which uses `RA.rand` to give a symmetric matrix with entries distributed normally on $[-a,a)$ where $a$ is an optional argument set by default to 1."
   ]
  },
  {
   "cell_type": "code",
   "execution_count": null,
   "id": "069e3cb8",
   "metadata": {},
   "outputs": [],
   "source": [
    "def random_symmetric_matrix():\n",
    "    #YOUR CODE HERE\n",
    "    return"
   ]
  },
  {
   "cell_type": "code",
   "execution_count": null,
   "id": "b1650855",
   "metadata": {},
   "outputs": [],
   "source": [
    "#testing\n",
    "#M=RA.rand(100,100)\n",
    "M=random_symmetric_matrix(100,100)\n",
    "M_vec=np.ndarray.flatten(M)  #convert to a list\n",
    "M_high_pos_table=[m>50 for m in M_vec]\n",
    "M_low_pos_table=[m<50 and m>0 for m in M_vec]\n",
    "M_low_neg_table=[m>-50 and m<0 for m in M_vec]\n",
    "M_high_neg_table=[m<-50 for m in M_vec]\n",
    "M_symmetry=np.array_equal(M,np.transpose(M))\n",
    "np.any(M_high_pos_table) and np.any(M_low_pos_table) and np.any(M_high_neg_table) and np.any(M_low_neg_table) and M_symmetry"
   ]
  },
  {
   "cell_type": "markdown",
   "id": "c8cf5422",
   "metadata": {},
   "source": [
    "## Exercise 1\n",
    "We'll also later need to select random unit vectors of length $n$ from the orthogonal complement to a list of unit vectors $u_1,u_2,\\dots,u_n$ where $n$ can be. We'll achieve this by letting one of our arguments be a list (set by default to empty).\n",
    "**Exercise:** Write such a function! You can indeed assume the supplied list of vectors consists of unit vectors (which should simplify the formulas somewhat).\n",
    "<details>\n",
    "    <summary> <b> Hint: </b> (click to expand) </summary>\n",
    "    \n",
    "-    All we need is for the output vector `v` to be a unit vector and to be orthogonal to `u_1,...,u_n`. You've written a function like that before!\n",
    "\n",
    "</details>"
   ]
  },
  {
   "cell_type": "code",
   "execution_count": null,
   "id": "35b58867",
   "metadata": {},
   "outputs": [],
   "source": [
    "def random_unit_vector_orthonormal_to():\n",
    "    #YOUR CODE HERE\n",
    "    return\n",
    "        "
   ]
  },
  {
   "cell_type": "code",
   "execution_count": null,
   "id": "a61c20a3",
   "metadata": {},
   "outputs": [],
   "source": [
    "#testing:\n",
    "v1=np.array([1,0,0],\"float64\")\n",
    "v2=np.array([0,np.sqrt(2)/2,-np.sqrt(2)/2],\"float64\")\n",
    "v3=random_unit_vector_orthonormal_to(3,[v1,v2])\n",
    "v3\n",
    "#Desired output:\n",
    "#array([0.        , 0.70710678, 0.70710678])\n",
    "#or\n",
    "#array([ 0.        , -0.70710678, -0.70710678])"
   ]
  },
  {
   "cell_type": "code",
   "execution_count": null,
   "id": "28f435f3-e239-4c5d-8910-966a8dbf6572",
   "metadata": {},
   "outputs": [],
   "source": [
    "#testing pt 2:\n",
    "u1=random_unit_vector_orthonormal_to(4)\n",
    "u2=random_unit_vector_orthonormal_to(4,[u1])\n",
    "u3=random_unit_vector_orthonormal_to(4,[u1,u2])\n",
    "u4=random_unit_vector_orthonormal_to(4,[u1,u2,u3])\n",
    "U=np.transpose([u1,u2,u3,u4])\n",
    "np.dot(np.transpose(U),U),np.dot(U,np.transpose(U))\n",
    "#what should we expect the output to be?"
   ]
  },
  {
   "cell_type": "markdown",
   "id": "bb848ea8",
   "metadata": {},
   "source": [
    "## Eigenvalues of Symmetric matrices\n",
    "The key observation making it feasible to write a relatively elementary function finding eigenvalues of an arbitrary symmetric matrix with real entries is the following theorem in Olver-Shakiban (pp.432):\n",
    "**Theorem 8.32:** Let $A=A^T$ be a real symmetric $n\\times n$ matrix. Then,\n",
    "- (a) All eigenvalues of $A$ are real.\n",
    "- (b) Eivenvectors corresponding to distinct eigenvalues are orthogonal\n",
    "- (c) There is an orthonormal basis of $\\mathbb{R}^n$ consisting of $n$ eigenvectors of $A$.\n"
   ]
  },
  {
   "cell_type": "markdown",
   "id": "30bd9c3d",
   "metadata": {},
   "source": [
    "## Eigenvalues of Symmetric matrices\n",
    "The key observation making it feasible to write a relatively elementary function finding eigenvalues of an arbitrary symmetric matrix with real entries is the *Spectral Theorem*, recalled in Olver-Shakiban as theorem 8.38:\n",
    "\n",
    "**Theorem:** Let $A$ be a real, symmetric matrix. Then, there exists an orthogonal matrix $Q$ such that $A=Q\\Lambda Q^{-1}=Q\\Lambda Q^T$ where $\\Lambda$ is a real diagonal matrix. The diagonal entries of $\\Lambda$ are the eigenvalues of $A$ and the corresponding columns of $Q$ are the corresponding [orthonormal] eigenvectors.\n",
    "\n",
    "Suppose $A$ is $n\\times n$ with eigenvalues $\\lambda_1\\geq \\lambda_2 \\geq \\dots \\geq \\lambda_n$ and consider the quadratic form $q(\\vec x)=\\vec x ^T A \\vec x$. Letting $\\vec y=Q^T \\vec x$, we have that $$q(\\vec x) = \\vec y ^T \\Lambda \\vec y= \\sum_{i=1}^n \\lambda_i y_i^2.$$ Restricting to unit vectors $\\vec y$, it is clear that $q$ achieves a maximum of $\\lambda_1$ when $\\vec y =(1, 0, \\dots, 0)$ and minimum of $\\lambda_n$ when $\\vec y =(0,\\dots, 0,1)$. Noting that $\\vec y = Q^T\\vec x$ is a unit vector if and only if $\\vec x $ is a unit vector yields the following:\n",
    "\n",
    "**Theorem:** $q(\\vec x)= \\vec x^T A\\vec x$ has a maximum among unit vectors $\\vec x$ of $\\lambda_1$, achieved when $\\vec x$ is a $\\lambda_1$-eigenvector and a minimum of $\\lambda_n$, achieved when $\\vec x$ is a $\\lambda_n$-eigenvector."
   ]
  },
  {
   "cell_type": "markdown",
   "id": "041bc2fa",
   "metadata": {},
   "source": [
    "### Exercise 2: Dominant eigenvalues\n",
    "Below, write a function which takes as input a real symmetric matrix `A` and an integer `num_iters` and gives as output a tuple `(l_1,v_1,l_n,v_n)` where `l_1` is [an approximation of] the greatest eigenvalue of `A`, `l_n` is the least eigenvector of `A` and `v_1` and `v_n` are respectively `l_1`- and `l_n`-eigenvalues.\n",
    "Do this by plugging in a `random_unit_vector` to the quadratic form $q$ as above `num_iters` times and recording the maximal and minimal values.\n",
    "<details>\n",
    "    <summary> <b> Hints: </b> (Click here to open) </summary>\n",
    "    \n",
    "- When finding minima and maxima, remember our trick of initializing the maximum as `-np.inf` and the minimum as `np.inf`!\n",
    "- Use a for loop quantified over `range(num_iters)` to repeat the process of choosing a random vector `num_iters` times. Note that there's no rule dictating that you must use your indexing variable!\n",
    "    </details>"
   ]
  },
  {
   "cell_type": "code",
   "execution_count": null,
   "id": "1d686f15",
   "metadata": {},
   "outputs": [],
   "source": [
    "def dom_eigens():\n",
    "    #YOUR CODE HERE\n",
    "    return\n",
    "        "
   ]
  },
  {
   "cell_type": "code",
   "execution_count": null,
   "id": "2ab7dea1",
   "metadata": {
    "scrolled": true
   },
   "outputs": [],
   "source": [
    "M=np.array([[33.35333333, 33.32333333, 33.32333333],\n",
    "       [33.32333333, 35.83833333, 30.83833333],\n",
    "       [33.32333333, 30.83833333, 35.83833333]])\n",
    "dom_eigens(M)\n",
    "#desired output: something approximating\n",
    "#(99.99957171960315,\n",
    "# array([-0.57870294, -0.57757057, -0.57577352]),\n",
    "# 0.03093244890258169,\n",
    "# array([ 0.81481521, -0.40680568, -0.41301975]))"
   ]
  },
  {
   "cell_type": "markdown",
   "id": "ebc4e835",
   "metadata": {},
   "source": [
    "## Exercise 3: Symmetric Eigensolver\n",
    "Now, we'll combine several of the functions we've written today to write a function which approximately computes all eigenvalues and eigenvectors of symmetric matrices. \n",
    "Suppose $A$ is $n\\times n$ with eigenvalues $\\lambda_1\\geq \\lambda_2\\geq \\dots \\geq \\lambda_n$.\n",
    "Then, as we've now learned, the maximum value of $q(\\vec x)=\\vec x^T A \\vec x$ among unit vectors $\\vec x$ is $\\lambda_1$, achieved at a $\\lambda_1$-eigenvector $\\vec v_1$.\n",
    "Moreover, we've also seen that $\\vec v_1$ fits into an orthonormal basis of $A$-eigenvectors $\\vec v_2,\\dots,\\vec v_n$ (where each $\\vec v_i$ is a $\\lambda_i$-eigenvector.\n",
    "Thus, among unit vectors orthogonal to $\\vec v_1$, $q$ has a maximum of $\\lambda_2$ achieved at a $\\lambda_2$-eigenvector $\\vec v_2$.\n",
    "And more generally, for $k\\leq n$, among unit vectors orthogonal to $\\vec v_1,\\dots \\vec v_{k-1}$, $q$ is has a maximum of $\\lambda_k$ achieved at $\\vec v_k$.\n",
    "\n",
    "**Exercise: (a)** Use this series of observations along with `random_unit_vector_orthonormal_to` to write a function which takes as input a real symmetric matrix `A` and produces a tuple `(lambdas,Q)` where `lambdas` is a vector of `A`'s eigenvalues (ordered from most to least, repeating as necessary) and `Q` is an orthogonal matrix with each `i`th column a `lambdas[i]`-eigenvector.\n",
    "Your function should once again take a parameter `num_iters` which governs how many repetitions through the process of plugging in random vectors to go through for each time through the process.\n",
    "\n",
    "<details>\n",
    "<summary>\n",
    "<b>\n",
    "Hint:    \n",
    "</b>\n",
    "(Click here to open)\n",
    "</summary>\n",
    "You can choose whether to find two eigenvalues at a time by taking simultaneous maxima and minima (as above) or just one at a time. If you choose to work with two at a time, be sure you find some way to correctly order the eigenvalues.\n",
    "    \n",
    "</details>\n"
   ]
  },
  {
   "cell_type": "code",
   "execution_count": null,
   "id": "548ac7b0",
   "metadata": {},
   "outputs": [],
   "source": [
    "def symmetric_eigensolver():\n",
    "    #YOUR CODE HERE\n",
    "    return\n"
   ]
  },
  {
   "cell_type": "code",
   "execution_count": null,
   "id": "63808457-41ff-4c12-903b-bdf764c52c58",
   "metadata": {},
   "outputs": [],
   "source": [
    "#testing\n",
    "M=np.array([[33.35333333, 33.32333333, 33.32333333],\n",
    "       [33.32333333, 35.83833333, 30.83833333],\n",
    "       [33.32333333, 30.83833333, 35.83833333]])\n",
    "symmetric_eigensolver(M,10**5)\n",
    "#desired output:\n",
    "#something approximating\n",
    "#(array([1.e+02, 5.e+00, 3.e-02]),\n",
    "# array([[-5.77350269e-01,  0.00000000e+00, -8.16496581e-01],\n",
    "#        [-5.77350269e-01, -7.07106781e-01,  4.08248290e-01],\n",
    "#        [-5.77350269e-01,  7.07106781e-01,  4.08248290e-01]]))"
   ]
  },
  {
   "cell_type": "markdown",
   "id": "3f5afd3e-e988-43ea-972b-429f25a5acfa",
   "metadata": {},
   "source": [
    "In practice, this is a wildly inefficient and inaccurate method of finding spectral data for an arbitrary symmetric matrix. An introduction to more practical methods can be found in Olver-Shakiban, section 9.5 for those interested.\n",
    "To demonstrate the poor accuracy of our method, let's put it to the test.\n",
    "\n",
    "**(b):** Write a function `reconstruct` which takes as input a matrix `A` and a parameter `num_iters` and reconstructs `A` by the spectral factorization $A=Q\\Lambda Q^T$ (`np.diag` is a helpful built-in function which converts between vectors and diagonal matrices (and vice-versa)). Then, for various values of `n`, run `reconstruct` on a random symmetric matrix with entries in $[-10,10)$ and check the accuracy of your results by finding the maximum amount by which an entry of your reconstructed `A` differs from the original. Write a few words about your observations. At what `n` does the discrepancy hit 1 for you? How about 5? 10?\n",
    "\n",
    "*Hint:* Remember that while the base python built-in `abs` works for `ndarray`s, `max` does not. Use `np.max` instead."
   ]
  },
  {
   "cell_type": "code",
   "execution_count": null,
   "id": "366679b0-f255-4a8c-a7be-3684124b6d55",
   "metadata": {},
   "outputs": [],
   "source": [
    "def reconstruct():\n",
    "    #YOUR CODE HERE\n",
    "    return"
   ]
  },
  {
   "cell_type": "code",
   "execution_count": 1,
   "id": "6217b31f-0e11-45bf-883e-238987a4261f",
   "metadata": {},
   "outputs": [],
   "source": [
    "#YOUR CODE HERE"
   ]
  },
  {
   "cell_type": "markdown",
   "id": "90ada4e9-9de4-45c9-9f0f-5d826d1e35f8",
   "metadata": {},
   "source": [
    "(Empty markdown cell for your observations)\n"
   ]
  },
  {
   "cell_type": "code",
   "execution_count": null,
   "id": "506e4463-d90a-4c3f-8983-739ef95b5586",
   "metadata": {},
   "outputs": [],
   "source": []
  }
 ],
 "metadata": {
  "kernelspec": {
   "display_name": "Python 3 (ipykernel)",
   "language": "python",
   "name": "python3"
  },
  "language_info": {
   "codemirror_mode": {
    "name": "ipython",
    "version": 3
   },
   "file_extension": ".py",
   "mimetype": "text/x-python",
   "name": "python",
   "nbconvert_exporter": "python",
   "pygments_lexer": "ipython3",
   "version": "3.10.12"
  }
 },
 "nbformat": 4,
 "nbformat_minor": 5
}
