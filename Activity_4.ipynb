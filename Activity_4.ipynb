{
 "cells": [
  {
   "cell_type": "markdown",
   "id": "13e646ed",
   "metadata": {},
   "source": [
    "# Activity 4: Gram-Schmidt and the QR factorization\n",
    "## Reminders\n",
    "In this exercise, we'll be writing code to transform arbitrary bases of $\\mathbb{R}^n$ into orthogonal bases with the Gram-Schmidt process.\n",
    "We'll start by reviewing some built-in functions that will be helpful."
   ]
  },
  {
   "cell_type": "code",
   "execution_count": 22,
   "id": "25d7525a",
   "metadata": {},
   "outputs": [],
   "source": [
    "import numpy as np\n",
    "from numpy import linalg as LA\n",
    "from numpy import random as RA"
   ]
  },
  {
   "cell_type": "markdown",
   "id": "34a1d7bb",
   "metadata": {},
   "source": [
    "Recall that slices allow us to work directly with columns and (in most ways) treat them as vectors. Given a numpy `array` `A`, we can extract its columns using slicing. Here are a few quick examples. "
   ]
  },
  {
   "cell_type": "code",
   "execution_count": 2,
   "id": "ff0bb697",
   "metadata": {},
   "outputs": [
    {
     "data": {
      "text/plain": [
       "array([2., 3., 0., 0.])"
      ]
     },
     "execution_count": 2,
     "metadata": {},
     "output_type": "execute_result"
    }
   ],
   "source": [
    "A=np.array([[2., 1., 0., 0.],\n",
    "       [3., 2., 1., 0.],\n",
    "       [0., 3., 2., 1.],\n",
    "       [0., 0., 3., 2.]])\n",
    "A[:,0] #first column"
   ]
  },
  {
   "cell_type": "markdown",
   "id": "46cb41cf",
   "metadata": {},
   "source": [
    "Note that slicing gives us a *view* rather than a *copy*. If what we really want is a copy, we can call the `copy()` method"
   ]
  },
  {
   "cell_type": "code",
   "execution_count": 3,
   "id": "0c642b19",
   "metadata": {},
   "outputs": [
    {
     "data": {
      "text/plain": [
       "array([[-4.,  1.,  0.,  0.],\n",
       "       [-6.,  2.,  1.,  0.],\n",
       "       [-0.,  3.,  2.,  1.],\n",
       "       [-0.,  0.,  3.,  2.]])"
      ]
     },
     "execution_count": 3,
     "metadata": {},
     "output_type": "execute_result"
    }
   ],
   "source": [
    "A[:,0]=A[:,0]*(-2) #multiply the first column by -2\n",
    "A #Now note that indeed the first column is altered"
   ]
  },
  {
   "cell_type": "code",
   "execution_count": 4,
   "id": "b3a82217",
   "metadata": {},
   "outputs": [
    {
     "data": {
      "text/plain": [
       "(array([[-4.,  1.,  0.,  0.],\n",
       "        [-6.,  2.,  1.,  0.],\n",
       "        [-0.,  3.,  2.,  1.],\n",
       "        [-0.,  0.,  3.,  2.]]),\n",
       " array([ 5., 10., 15.,  0.]))"
      ]
     },
     "execution_count": 4,
     "metadata": {},
     "output_type": "execute_result"
    }
   ],
   "source": [
    "v=A[:,1].copy() #call a copy of the second column\n",
    "v=v*5 #multiply v by 5\n",
    "A,v #check if A has changed (and compare to v)"
   ]
  },
  {
   "cell_type": "markdown",
   "id": "cd03653f",
   "metadata": {},
   "source": [
    "## Exercise 1: The Gram-Schmidt process\n",
    "Now, we'll implement the Gram-Schmidt process.\n",
    "We'll take the columns of an input matrix to be the basis we start with.\n",
    "That is, in the notation of section 4.2 of Olver-Shakiban, we'll take the columns `A[0]`, `A[1]`, ... , `A[n-1]` of our `A` to be $\\vec{w}_1,\\dots, \\vec{w}_n$.\n",
    "Our output will be a new matrix `Q` with columns given by the Gram-Schmidt process. In the notation of section 4.2, these are $\\vec{v}_1,\\dots,\\vec{v}_n$.\n",
    "\n",
    "For our first pass of the Gram-Schmidt process, write a function which implements the Gram-Schmidt process for a  matrix `A` with linearly independent columns using the Gram-Schmidt formula.\n",
    "You may do this however you like, but an outline is given in the hint below.\n",
    "<details>\n",
    "    <summary> <b> Hint: </b> (Click here to expand) </summary>\n",
    "    \n",
    "* Set `n` to be the number of *columns* in `A`.\n",
    "* Initialize a new matrix `Q` in the shape of `A`.\n",
    "* Iterate over `j` in `range(n)` parametrizing which column we are working with.\n",
    "* Adapt the formula $$\\vec{v}_j=\\vec{w}_j-\\sum_{i=1}^{j-1} \\frac{\\langle \\vec{w}_j,\\vec{v_i}\\rangle}{\\langle \\vec{v}_i,\\vec{v}_i\\rangle}\\vec{v}_i$$ to the naming and indexing established and use it to set the column `Q[j]`.\n",
    "* Return the matrix `Q`.\n",
    "    </details>"
   ]
  },
  {
   "cell_type": "code",
   "execution_count": 5,
   "id": "8f811486",
   "metadata": {},
   "outputs": [],
   "source": [
    "def my_GS():\n",
    "    #YOUR CODE HERE\n",
    "    return "
   ]
  },
  {
   "cell_type": "code",
   "execution_count": 6,
   "id": "8c729c5c",
   "metadata": {},
   "outputs": [
    {
     "data": {
      "text/plain": [
       "(array([[-4.        , -0.23076923, -0.30508475,  0.2755102 ],\n",
       "        [-6.        ,  0.15384615,  0.20338983, -0.18367347],\n",
       "        [-0.        ,  3.        , -0.03389831,  0.03061224],\n",
       "        [-0.        ,  0.        ,  3.        ,  0.04081633]]),\n",
       " array([[ 5.20000000e+01,  8.88178420e-16, -8.88178420e-16,\n",
       "          4.99600361e-16],\n",
       "        [ 8.88178420e-16,  9.07692308e+00,  2.77555756e-16,\n",
       "         -2.35922393e-16],\n",
       "        [-8.88178420e-16,  2.77555756e-16,  9.13559322e+00,\n",
       "         -5.41233725e-16],\n",
       "        [ 4.99600361e-16, -2.35922393e-16, -5.41233725e-16,\n",
       "          1.12244898e-01]]))"
      ]
     },
     "execution_count": 6,
     "metadata": {},
     "output_type": "execute_result"
    }
   ],
   "source": [
    "#testing\n",
    "A1=np.array([[1,2,3],\n",
    "            [4,5,6],\n",
    "            [1,-1,1],\n",
    "            [0,-2,-1]],\"float64\")\n",
    "Q=my_GS(A)\n",
    "Q,np.dot(np.transpose(Q),Q)  #Question: what's special about this product?\n",
    "#Desired output:\n",
    "#(array([[ 1.        ,  0.83333333,  1.06432749],\n",
    "#       [ 4.        ,  0.33333333, -0.37426901],\n",
    "#       [ 1.        , -2.16666667,  0.43274854],\n",
    "#       [ 0.        , -2.        , -0.0877193 ]]),\n",
    "# array([[ 1.80000000e+01, -1.77635684e-15, -2.22044605e-16],\n",
    "#        [-1.77635684e-15,  9.50000000e+00,  1.52655666e-15],\n",
    "#        [-2.22044605e-16,  1.52655666e-15,  1.46783626e+00]]))"
   ]
  },
  {
   "cell_type": "markdown",
   "id": "2e80fcbb",
   "metadata": {},
   "source": [
    "Now, copy and modify your code to give an orthonormal basis. That is, after finding each $\\vec{v}_i$, set $\\vec u_i=\\vec v_i/\\lVert{\\vec v_i}\\rVert$ and let the output matrix's columns `Q[0]`,`Q[1]`,...,`Q[n-1]` be $\\vec u_1,\\dots , \\vec U_n$.\n",
    "\n",
    "You'll likely find the built-in `numpy` command `np.linalg.norm` useful, imported for convenience as `LA.norm`."
   ]
  },
  {
   "cell_type": "code",
   "execution_count": 7,
   "id": "c34e08ff",
   "metadata": {},
   "outputs": [],
   "source": [
    "def my_GS_normalized():\n",
    "    #YOUR CODE HERE\n",
    "    return "
   ]
  },
  {
   "cell_type": "code",
   "execution_count": 8,
   "id": "4088b169",
   "metadata": {},
   "outputs": [
    {
     "data": {
      "text/plain": [
       "(array([[ 0.23570226,  0.27036904,  0.87848929],\n",
       "        [ 0.94280904,  0.10814761, -0.30891931],\n",
       "        [ 0.23570226, -0.70295949,  0.35718795],\n",
       "        [ 0.        , -0.64888568, -0.07240296]]),\n",
       " array([[ 1.00000000e+00, -1.36129200e-16, -7.70383744e-16],\n",
       "        [-1.36129200e-16,  1.00000000e+00,  4.73463928e-16],\n",
       "        [-7.70383744e-16,  4.73463928e-16,  1.00000000e+00]]))"
      ]
     },
     "execution_count": 8,
     "metadata": {},
     "output_type": "execute_result"
    }
   ],
   "source": [
    "#testing\n",
    "A=np.array([[1,2,3],\n",
    "            [4,5,6],\n",
    "            [1,-1,1],\n",
    "            [0,-2,-1]],\"float64\")\n",
    "Q=my_GS_normalized(A)\n",
    "Q,np.dot(np.transpose(Q),Q)\n",
    "#Desired output:\n",
    "#(array([[ 0.23570226,  0.27036904,  0.87848929],\n",
    "#        [ 0.94280904,  0.10814761, -0.30891931],\n",
    "#        [ 0.23570226, -0.70295949,  0.35718795],\n",
    "#        [ 0.        , -0.64888568, -0.07240296]]),\n",
    "# array([[ 1.00000000e+00, -1.36129200e-16, -7.70383744e-16],\n",
    "#        [-1.36129200e-16,  1.00000000e+00,  4.73463928e-16],\n",
    "#        [-7.70383744e-16,  4.73463928e-16,  1.00000000e+00]]))"
   ]
  },
  {
   "cell_type": "markdown",
   "id": "a6bdcab1",
   "metadata": {},
   "source": [
    "## Exercise 2: Error Handling\n",
    "Modify your functions to `raise` an `exception` when a linearly independent set is given as input. \n",
    "\n",
    "There is one major complication to this exercise: often, numpy returns a value on the order of `10**-15` or so where mathematically we should expect zero due to rounding errors. To account for this, we should take an additional parameter `tolerance` (which is set by default to `10**(-10)`) such that we ignore any variation of magnitude less than `tolerance`. (how can you make that instruction precise?)"
   ]
  },
  {
   "cell_type": "code",
   "execution_count": 9,
   "id": "d2bcc199",
   "metadata": {},
   "outputs": [],
   "source": [
    "def my_GS_safe():\n",
    "    #YOUR CODE HERE\n",
    "    return "
   ]
  },
  {
   "cell_type": "code",
   "execution_count": 10,
   "id": "5684f16d",
   "metadata": {},
   "outputs": [
    {
     "name": "stdout",
     "output_type": "stream",
     "text": [
      "[[ 1.          0.83333333  1.06432749]\n",
      " [ 4.          0.33333333 -0.37426901]\n",
      " [ 1.         -2.16666667  0.43274854]\n",
      " [ 0.         -2.         -0.0877193 ]]\n"
     ]
    },
    {
     "ename": "Exception",
     "evalue": "Linearly dependent input",
     "output_type": "error",
     "traceback": [
      "\u001b[0;31m---------------------------------------------------------------------------\u001b[0m",
      "\u001b[0;31mException\u001b[0m                                 Traceback (most recent call last)",
      "\u001b[0;32m/tmp/ipykernel_117259/414802600.py\u001b[0m in \u001b[0;36m<module>\u001b[0;34m\u001b[0m\n\u001b[1;32m     10\u001b[0m \u001b[0mP1\u001b[0m\u001b[0;34m=\u001b[0m\u001b[0mmy_GS_safe\u001b[0m\u001b[0;34m(\u001b[0m\u001b[0mA1\u001b[0m\u001b[0;34m)\u001b[0m\u001b[0;34m\u001b[0m\u001b[0;34m\u001b[0m\u001b[0m\n\u001b[1;32m     11\u001b[0m \u001b[0mprint\u001b[0m\u001b[0;34m(\u001b[0m\u001b[0mP1\u001b[0m\u001b[0;34m)\u001b[0m\u001b[0;34m\u001b[0m\u001b[0;34m\u001b[0m\u001b[0m\n\u001b[0;32m---> 12\u001b[0;31m \u001b[0mP2\u001b[0m\u001b[0;34m=\u001b[0m\u001b[0mmy_GS_safe\u001b[0m\u001b[0;34m(\u001b[0m\u001b[0mA2\u001b[0m\u001b[0;34m)\u001b[0m\u001b[0;34m\u001b[0m\u001b[0;34m\u001b[0m\u001b[0m\n\u001b[0m\u001b[1;32m     13\u001b[0m \u001b[0mprint\u001b[0m\u001b[0;34m(\u001b[0m\u001b[0mP2\u001b[0m\u001b[0;34m)\u001b[0m\u001b[0;34m\u001b[0m\u001b[0;34m\u001b[0m\u001b[0m\n\u001b[1;32m     14\u001b[0m \u001b[0;31m#Desired Output:\u001b[0m\u001b[0;34m\u001b[0m\u001b[0;34m\u001b[0m\u001b[0m\n",
      "\u001b[0;32m/tmp/ipykernel_117259/1855722164.py\u001b[0m in \u001b[0;36mmy_GS_safe\u001b[0;34m(A, tolerance)\u001b[0m\n\u001b[1;32m      7\u001b[0m                             for i in range(j)]) #only sum over columns already handled\n\u001b[1;32m      8\u001b[0m         \u001b[0;32mif\u001b[0m \u001b[0mLA\u001b[0m\u001b[0;34m.\u001b[0m\u001b[0mnorm\u001b[0m\u001b[0;34m(\u001b[0m\u001b[0mQ\u001b[0m\u001b[0;34m[\u001b[0m\u001b[0;34m:\u001b[0m\u001b[0;34m,\u001b[0m\u001b[0mj\u001b[0m\u001b[0;34m]\u001b[0m\u001b[0;34m)\u001b[0m\u001b[0;34m<\u001b[0m\u001b[0mtolerance\u001b[0m\u001b[0;34m:\u001b[0m\u001b[0;34m\u001b[0m\u001b[0;34m\u001b[0m\u001b[0m\n\u001b[0;32m----> 9\u001b[0;31m             \u001b[0;32mraise\u001b[0m \u001b[0mException\u001b[0m\u001b[0;34m(\u001b[0m\u001b[0;34m\"Linearly dependent input\"\u001b[0m\u001b[0;34m)\u001b[0m\u001b[0;34m\u001b[0m\u001b[0;34m\u001b[0m\u001b[0m\n\u001b[0m\u001b[1;32m     10\u001b[0m     \u001b[0;32mreturn\u001b[0m \u001b[0mQ\u001b[0m\u001b[0;34m\u001b[0m\u001b[0;34m\u001b[0m\u001b[0m\n\u001b[1;32m     11\u001b[0m \u001b[0;32mdef\u001b[0m \u001b[0mmy_GS_normalized_safe\u001b[0m\u001b[0;34m(\u001b[0m\u001b[0mA\u001b[0m\u001b[0;34m,\u001b[0m\u001b[0mtolerance\u001b[0m\u001b[0;34m=\u001b[0m\u001b[0;36m10\u001b[0m\u001b[0;34m**\u001b[0m\u001b[0;34m(\u001b[0m\u001b[0;34m-\u001b[0m\u001b[0;36m10\u001b[0m\u001b[0;34m)\u001b[0m\u001b[0;34m)\u001b[0m\u001b[0;34m:\u001b[0m\u001b[0;34m\u001b[0m\u001b[0;34m\u001b[0m\u001b[0m\n",
      "\u001b[0;31mException\u001b[0m: Linearly dependent input"
     ]
    }
   ],
   "source": [
    "#testing\n",
    "A1=np.array([[1,2,3],\n",
    "            [4,5,6],\n",
    "            [1,-1,1],\n",
    "            [0,-2,-1]],\"float64\")\n",
    "A2=np.array([[1,2,3,0],\n",
    "            [4,5,6,3],\n",
    "            [1,-1,1,-1],\n",
    "            [0,-2,-1,-1]],\"float64\")\n",
    "P1=my_GS_safe(A1)\n",
    "print(P1)\n",
    "P2=my_GS_safe(A2)\n",
    "print(P2)\n",
    "#Desired Output:\n",
    "#[[ 1.          0.83333333  1.06432749]\n",
    "# [ 4.          0.33333333 -0.37426901]\n",
    "# [ 1.         -2.16666667  0.43274854]\n",
    "# [ 0.         -2.         -0.0877193 ]]\n",
    "#---------------------------------------------------------------------------\n",
    "#Exception   \n",
    "# ...\n",
    "# Linearly dependent input"
   ]
  },
  {
   "cell_type": "code",
   "execution_count": 11,
   "id": "b3fd34b3",
   "metadata": {},
   "outputs": [
    {
     "name": "stdout",
     "output_type": "stream",
     "text": [
      "[[ 0.23570226  0.27036904  0.87848929]\n",
      " [ 0.94280904  0.10814761 -0.30891931]\n",
      " [ 0.23570226 -0.70295949  0.35718795]\n",
      " [ 0.         -0.64888568 -0.07240296]]\n"
     ]
    },
    {
     "ename": "Exception",
     "evalue": "Linearly dependent input",
     "output_type": "error",
     "traceback": [
      "\u001b[0;31m---------------------------------------------------------------------------\u001b[0m",
      "\u001b[0;31mException\u001b[0m                                 Traceback (most recent call last)",
      "\u001b[0;32m/tmp/ipykernel_117259/4210283891.py\u001b[0m in \u001b[0;36m<module>\u001b[0;34m\u001b[0m\n\u001b[1;32m     10\u001b[0m \u001b[0mQ1\u001b[0m\u001b[0;34m=\u001b[0m\u001b[0mmy_GS_normalized_safe\u001b[0m\u001b[0;34m(\u001b[0m\u001b[0mA1\u001b[0m\u001b[0;34m)\u001b[0m\u001b[0;34m\u001b[0m\u001b[0;34m\u001b[0m\u001b[0m\n\u001b[1;32m     11\u001b[0m \u001b[0mprint\u001b[0m\u001b[0;34m(\u001b[0m\u001b[0mQ1\u001b[0m\u001b[0;34m)\u001b[0m\u001b[0;34m\u001b[0m\u001b[0;34m\u001b[0m\u001b[0m\n\u001b[0;32m---> 12\u001b[0;31m \u001b[0mQ2\u001b[0m\u001b[0;34m=\u001b[0m\u001b[0mmy_GS_normalized_safe\u001b[0m\u001b[0;34m(\u001b[0m\u001b[0mA2\u001b[0m\u001b[0;34m)\u001b[0m\u001b[0;34m\u001b[0m\u001b[0;34m\u001b[0m\u001b[0m\n\u001b[0m\u001b[1;32m     13\u001b[0m \u001b[0mprint\u001b[0m\u001b[0;34m(\u001b[0m\u001b[0mQ2\u001b[0m\u001b[0;34m)\u001b[0m\u001b[0;34m\u001b[0m\u001b[0;34m\u001b[0m\u001b[0m\n\u001b[1;32m     14\u001b[0m \u001b[0;31m#Desired output:\u001b[0m\u001b[0;34m\u001b[0m\u001b[0;34m\u001b[0m\u001b[0m\n",
      "\u001b[0;32m/tmp/ipykernel_117259/1855722164.py\u001b[0m in \u001b[0;36mmy_GS_normalized_safe\u001b[0;34m(A, tolerance)\u001b[0m\n\u001b[1;32m     17\u001b[0m                             for i in range(j)]) #only sum over columns already handled\n\u001b[1;32m     18\u001b[0m         \u001b[0;32mif\u001b[0m \u001b[0mLA\u001b[0m\u001b[0;34m.\u001b[0m\u001b[0mnorm\u001b[0m\u001b[0;34m(\u001b[0m\u001b[0mQ\u001b[0m\u001b[0;34m[\u001b[0m\u001b[0;34m:\u001b[0m\u001b[0;34m,\u001b[0m\u001b[0mj\u001b[0m\u001b[0;34m]\u001b[0m\u001b[0;34m)\u001b[0m\u001b[0;34m<\u001b[0m\u001b[0mtolerance\u001b[0m\u001b[0;34m:\u001b[0m\u001b[0;34m\u001b[0m\u001b[0;34m\u001b[0m\u001b[0m\n\u001b[0;32m---> 19\u001b[0;31m             \u001b[0;32mraise\u001b[0m \u001b[0mException\u001b[0m\u001b[0;34m(\u001b[0m\u001b[0;34m\"Linearly dependent input\"\u001b[0m\u001b[0;34m)\u001b[0m\u001b[0;34m\u001b[0m\u001b[0;34m\u001b[0m\u001b[0m\n\u001b[0m\u001b[1;32m     20\u001b[0m         \u001b[0;32melse\u001b[0m\u001b[0;34m:\u001b[0m\u001b[0;34m\u001b[0m\u001b[0;34m\u001b[0m\u001b[0m\n\u001b[1;32m     21\u001b[0m             \u001b[0mQ\u001b[0m\u001b[0;34m[\u001b[0m\u001b[0;34m:\u001b[0m\u001b[0;34m,\u001b[0m\u001b[0mj\u001b[0m\u001b[0;34m]\u001b[0m\u001b[0;34m=\u001b[0m\u001b[0mQ\u001b[0m\u001b[0;34m[\u001b[0m\u001b[0;34m:\u001b[0m\u001b[0;34m,\u001b[0m\u001b[0mj\u001b[0m\u001b[0;34m]\u001b[0m\u001b[0;34m/\u001b[0m\u001b[0mLA\u001b[0m\u001b[0;34m.\u001b[0m\u001b[0mnorm\u001b[0m\u001b[0;34m(\u001b[0m\u001b[0mQ\u001b[0m\u001b[0;34m[\u001b[0m\u001b[0;34m:\u001b[0m\u001b[0;34m,\u001b[0m\u001b[0mj\u001b[0m\u001b[0;34m]\u001b[0m\u001b[0;34m)\u001b[0m\u001b[0;34m\u001b[0m\u001b[0;34m\u001b[0m\u001b[0m\n",
      "\u001b[0;31mException\u001b[0m: Linearly dependent input"
     ]
    }
   ],
   "source": [
    "#more testing\n",
    "A1=np.array([[1,2,3],\n",
    "            [4,5,6],\n",
    "            [1,-1,1],\n",
    "            [0,-2,-1]],\"float64\")\n",
    "A2=np.array([[1,2,3,0],\n",
    "            [4,5,6,3],\n",
    "            [1,-1,1,-1],\n",
    "            [0,-2,-1,-1]],\"float64\")\n",
    "Q1=my_GS_normalized_safe(A1)\n",
    "print(Q1)\n",
    "Q2=my_GS_normalized_safe(A2)\n",
    "print(Q2)\n",
    "#Desired output:\n",
    "#[[ 0.23570226  0.27036904  0.87848929]\n",
    "# [ 0.94280904  0.10814761 -0.30891931]\n",
    "# [ 0.23570226 -0.70295949  0.35718795]\n",
    "# [ 0.         -0.64888568 -0.07240296]]\n",
    "#\n",
    "#---------------------------------------------------------------------------\n",
    "#Exception\n",
    "#...\n",
    "#Exception: Linearly dependent input"
   ]
  },
  {
   "cell_type": "markdown",
   "id": "c1ae0ecc",
   "metadata": {},
   "source": [
    "## Exercise 3: The QR Factorization"
   ]
  },
  {
   "cell_type": "markdown",
   "id": "a67a3573",
   "metadata": {},
   "source": [
    "Now, we want to modify our code once more to produce a QR factorization of a square input matrix. Note that `my_GS_normalized` already produces an orthogonal matrix `Q` as its output given square nonsingular input. \n",
    "\n",
    "**Exercise:** Modify `my_GS_normalized` to produce a QR factorization of a square input matrix `A` (or work from scratch!). The process is described on pages 197-8 of Olver-Shakiban, but you may find the \"numerically stable\" version on page 199 easier to implement. Be sure to check your code with tests--we should have that $A=QR$ and that $QQ^T=I$"
   ]
  },
  {
   "cell_type": "code",
   "execution_count": 13,
   "id": "024e4bcc",
   "metadata": {},
   "outputs": [],
   "source": [
    "def my_QR():\n",
    "    #YOUR CODE HERE\n",
    "    return"
   ]
  },
  {
   "cell_type": "code",
   "execution_count": 14,
   "id": "499f6534",
   "metadata": {},
   "outputs": [
    {
     "data": {
      "text/plain": [
       "(array([[ 1.,  2.,  3.],\n",
       "        [ 4.,  5.,  6.],\n",
       "        [ 1., -1.,  1.]]),\n",
       " array([[ 0.23570226,  0.35533453,  0.90453403],\n",
       "        [ 0.94280904,  0.14213381, -0.30151134],\n",
       "        [ 0.23570226, -0.92386977,  0.30151134]]),\n",
       " array([[4.24264069, 4.94974747, 6.59966329],\n",
       "        [0.        , 2.34520788, 0.99493668],\n",
       "        [0.        , 0.        , 1.20604538]]),\n",
       " array([[ 1.,  2.,  3.],\n",
       "        [ 4.,  5.,  6.],\n",
       "        [ 1., -1.,  1.]]),\n",
       " array([[ 1.00000000e+00, -5.25448946e-16, -4.12858351e-16],\n",
       "        [-5.25448946e-16,  1.00000000e+00, -9.74257535e-18],\n",
       "        [-4.12858351e-16, -9.74257535e-18,  1.00000000e+00]]))"
      ]
     },
     "execution_count": 14,
     "metadata": {},
     "output_type": "execute_result"
    }
   ],
   "source": [
    "#testing\n",
    "A3=np.array([[1,2,3],\n",
    "            [4,5,6],\n",
    "            [1,-1,1]],\"float64\")\n",
    "Q3,R3=my_QR(A3)\n",
    "A3,Q3,R3,np.dot(Q3,R3),np.dot(np.transpose(Q3),Q3)\n",
    "#Desired output:\n",
    "#(array([[ 1.,  2.,  3.],\n",
    "#        [ 4.,  5.,  6.],\n",
    "#        [ 1., -1.,  1.]]),\n",
    "# array([[ 0.23570226,  0.35533453,  0.90453403],\n",
    "#        [ 0.94280904,  0.14213381, -0.30151134],\n",
    "#        [ 0.23570226, -0.92386977,  0.30151134]]),\n",
    "# array([[4.24264069, 4.94974747, 6.59966329],\n",
    "#        [0.        , 2.34520788, 0.99493668],\n",
    "#        [0.        , 0.        , 1.20604538]]),\n",
    "# array([[ 1.,  2.,  3.],\n",
    "#        [ 4.,  5.,  6.],\n",
    "#        [ 1., -1.,  1.]]),\n",
    "# array([[ 1.00000000e+00, -5.25448946e-16, -4.12858351e-16],\n",
    "#        [-5.25448946e-16,  1.00000000e+00, -9.74257535e-18],\n",
    "#        [-4.12858351e-16, -9.74257535e-18,  1.00000000e+00]]))"
   ]
  },
  {
   "cell_type": "code",
   "execution_count": 16,
   "id": "0c2bb868",
   "metadata": {},
   "outputs": [
    {
     "data": {
      "text/plain": [
       "(array([[ 1.,  2.,  3.],\n",
       "        [ 4.,  5.,  6.],\n",
       "        [ 1., -1.,  1.]]),\n",
       " array([[ 0.23570226,  0.35533453,  0.90453403],\n",
       "        [ 0.94280904,  0.14213381, -0.30151134],\n",
       "        [ 0.23570226, -0.92386977,  0.30151134]]),\n",
       " array([[4.24264069, 4.94974747, 6.59966329],\n",
       "        [0.        , 2.34520788, 0.99493668],\n",
       "        [0.        , 0.        , 1.20604538]]),\n",
       " array([[ 1.,  2.,  3.],\n",
       "        [ 4.,  5.,  6.],\n",
       "        [ 1., -1.,  1.]]),\n",
       " array([[ 1.00000000e+00, -5.43680314e-16, -7.09824319e-16],\n",
       "        [-5.43680314e-16,  1.00000000e+00,  1.83601527e-15],\n",
       "        [-7.09824319e-16,  1.83601527e-15,  1.00000000e+00]]))"
      ]
     },
     "execution_count": 16,
     "metadata": {},
     "output_type": "execute_result"
    }
   ],
   "source": [
    "A3=np.array([[1,2,3],\n",
    "            [4,5,6],\n",
    "            [1,-1,1]],\"float64\")\n",
    "Q3,R3=my_QR2(A3)\n",
    "A3,Q3,R3,np.dot(Q3,R3),np.dot(np.transpose(Q3),Q3)\n",
    "#Desired output:\n",
    "#(array([[ 1.,  2.,  3.],\n",
    "#        [ 4.,  5.,  6.],\n",
    "#        [ 1., -1.,  1.]]),\n",
    "# array([[ 0.23570226,  0.35533453,  0.90453403],\n",
    "#        [ 0.94280904,  0.14213381, -0.30151134],\n",
    "#        [ 0.23570226, -0.92386977,  0.30151134]]),\n",
    "# array([[4.24264069, 4.94974747, 6.59966329],\n",
    "#        [0.        , 2.34520788, 0.99493668],\n",
    "#        [0.        , 0.        , 1.20604538]]),\n",
    "# array([[ 1.,  2.,  3.],\n",
    "#        [ 4.,  5.,  6.],\n",
    "#        [ 1., -1.,  1.]]),\n",
    "# array([[ 1.00000000e+00, -5.25448946e-16, -4.12858351e-16],\n",
    "#        [-5.25448946e-16,  1.00000000e+00, -9.74257535e-18],\n",
    "#        [-4.12858351e-16, -9.74257535e-18,  1.00000000e+00]]))"
   ]
  },
  {
   "cell_type": "markdown",
   "id": "ecdc8be3",
   "metadata": {},
   "source": [
    "## Exercise 4: Orthogonal Projection\n",
    "Recall from Olver-Shakiban:\n",
    "**Definition 4.31.** The *orthogonal projection* of $\\vec v$ onto the subspace $W$ is the element $\\vec w \\in W$ such that $\\vec z = \\vec v - \\vec w$ is orthogonal to $W$.\n",
    "\n",
    "Note that Theorem 4.32 below it gives a formula for $\\vec w$ in terms of an orthonormal basis for $W$.\n",
    "\n",
    "**Exercise** Given a basis for $W$ (in the form of the columns of an array `A`) and a vector `v`, write a function `my_projection` which outputs the orthogonal projection `w` of `v` onto `W`."
   ]
  },
  {
   "cell_type": "code",
   "execution_count": 17,
   "id": "53519449",
   "metadata": {},
   "outputs": [],
   "source": [
    "def my_projection():\n",
    "    #YOUR CODE HERE\n",
    "    return "
   ]
  },
  {
   "cell_type": "code",
   "execution_count": 18,
   "id": "e12d82a4",
   "metadata": {},
   "outputs": [
    {
     "data": {
      "text/plain": [
       "(array([ 0.90039841, -0.01992032,  0.17928287, -0.23904382]),\n",
       " array([ 0.09960159,  0.01992032, -0.17928287,  0.23904382]),\n",
       " array([2.72004641e-15, 1.83186799e-15, 3.83026943e-15]))"
      ]
     },
     "execution_count": 18,
     "metadata": {},
     "output_type": "execute_result"
    }
   ],
   "source": [
    "#testing\n",
    "A1=np.array([[1,2,3],\n",
    "            [4,5,6],\n",
    "            [1,-1,1],\n",
    "            [0,-2,-1]],\"float64\")\n",
    "v=np.array([1,0,0,0],\"float64\")\n",
    "w=my_projection(A1,v)\n",
    "z=v-w\n",
    "w,z,np.dot(np.transpose(A1),z)\n",
    "#Desired output:\n",
    "#(array([ 0.90039841, -0.01992032,  0.17928287, -0.23904382]),\n",
    "# array([ 0.09960159,  0.01992032, -0.17928287,  0.23904382]),\n",
    "# array([2.72004641e-15, 1.83186799e-15, 3.83026943e-15]))\n",
    "#(or something very close to zero for the third line)"
   ]
  },
  {
   "cell_type": "markdown",
   "id": "3b41e564",
   "metadata": {},
   "source": [
    "## Exercise 5 (Challenge!): Comparing the approaches\n",
    "In exercise 2, two QR algorithms were suggested to you, one on pages 197-98 and one on page 199 of Olver-Shakiban. \n",
    "\n",
    "**(a)** Whichever one you did *not* implement, implement that one below as `my_QR2`."
   ]
  },
  {
   "cell_type": "code",
   "execution_count": 19,
   "id": "bdd4ac0f",
   "metadata": {},
   "outputs": [],
   "source": [
    "def my_QR2():\n",
    "    #YOUR CODE HERE\n",
    "    return "
   ]
  },
  {
   "cell_type": "markdown",
   "id": "db111097-2268-4406-81f3-e1d71a82c133",
   "metadata": {},
   "source": [
    "**(b)** Write a function which measures failure of orthogonality of an input matrix $Q$ by giving the greatest entry of $\\left\\lvert Q^TQ-I\\right \\rvert$ where $I$ is the appropriately-sized identity matrix. \n",
    "\n",
    "*Note:* You might find issues if you try to use the base python built-in `max`. There are workarounds for this, but the best solution is probably the `numpy`-provided `np.max`."
   ]
  },
  {
   "cell_type": "code",
   "execution_count": 20,
   "id": "6db83192-7f7e-468b-965d-0ce4e2a625a2",
   "metadata": {},
   "outputs": [],
   "source": [
    "def orth_checker():\n",
    "    #YOUR CODE HERE\n",
    "    return "
   ]
  },
  {
   "cell_type": "code",
   "execution_count": 26,
   "id": "41d3b9c5-8662-4915-b3ba-889f6cba56db",
   "metadata": {},
   "outputs": [
    {
     "data": {
      "text/plain": [
       "2.220446049250313e-16"
      ]
     },
     "execution_count": 26,
     "metadata": {},
     "output_type": "execute_result"
    }
   ],
   "source": [
    "M=RA.rand(5,5)\n",
    "(Q,R)=my_QR(M)\n",
    "orth_checker(Q)"
   ]
  },
  {
   "cell_type": "markdown",
   "id": "6d15c2e9-202e-4abd-94a4-2c8d511932ff",
   "metadata": {},
   "source": [
    "**(c):** `np.random.rand(m,n)` (imported for convenience as `RA.rand(m,n)`) returns a random matrix of dimensions $m\\times n$ with entries in the interval $[0,1)$. Use this to write a function which takes as input a dimension `n` and a number of iterations `num_iters` and compares your two implementations by generating a random $n\\times n$ matrix, using both QR algorithms to compute a factorization, and checking which returns a $Q$ closer to being on-the-nose orthogonal, doing this `num_iters` times. When run, your function should print a line for each test stating which iteration the test is on, which implementation gave a result with better `orth_checker` result, and that `orth_checker` result. Finally, when the test is concluded, print out how many times each algorithm 'won' in human-readable form."
   ]
  },
  {
   "cell_type": "code",
   "execution_count": 33,
   "id": "5ffd1d4d-4668-4276-bb65-90d06395eaa6",
   "metadata": {},
   "outputs": [],
   "source": [
    "def QR_comp():\n",
    "    #YOUR CODE HERE\n",
    "    return"
   ]
  },
  {
   "cell_type": "code",
   "execution_count": null,
   "id": "301edd56-f429-4dbf-ac02-924fbc9fce77",
   "metadata": {},
   "outputs": [],
   "source": [
    "QR_comp(2, 80)"
   ]
  },
  {
   "cell_type": "markdown",
   "id": "582ae349-4a75-4c5c-80d1-b1052423d479",
   "metadata": {},
   "source": [
    "(d) Try your comparison function with varying `n` and a large `num_iters`. Is one consistently better than the other? Do the results change in low or high dimension? Write a few words below. You might consider modifying your code to track how much closer to orthogonality the preferred one is compared to the other, perhaps computing the largest and average discrepancies."
   ]
  },
  {
   "cell_type": "markdown",
   "id": "0a5504c3-e4b8-4b40-a1a7-41b738a02418",
   "metadata": {},
   "source": [
    "(This is an empty markdown cell for you to type out your response)"
   ]
  },
  {
   "cell_type": "code",
   "execution_count": 1,
   "id": "39bd0950-6990-45fe-b645-2a3ce1fc5b7e",
   "metadata": {},
   "outputs": [],
   "source": [
    "def QR_diff():\n",
    "    #YOUR CODE HERE\n",
    "    return"
   ]
  },
  {
   "cell_type": "code",
   "execution_count": 47,
   "id": "10dd7df4-41d3-4b92-95dd-564011601856",
   "metadata": {},
   "outputs": [
    {
     "name": "stdout",
     "output_type": "stream",
     "text": [
      "my_QR better overall, preferred in  798  trials out of  1000 \n",
      " average difference of  2.152981408011688e-12  max discrepancy of  1.1746807930485414e-09\n"
     ]
    }
   ],
   "source": [
    "QR_diff(2,1000)"
   ]
  },
  {
   "cell_type": "code",
   "execution_count": 48,
   "id": "e51dc634-7f2e-4bb1-a253-6bccce9eb887",
   "metadata": {},
   "outputs": [
    {
     "name": "stdout",
     "output_type": "stream",
     "text": [
      "my_QR better overall, preferred in  1000  trials out of  1000 \n",
      " average difference of  3.078159214995887e-11  max discrepancy of  1.0742646862946136e-08\n"
     ]
    }
   ],
   "source": [
    "QR_diff(10, 1000)"
   ]
  },
  {
   "cell_type": "code",
   "execution_count": 51,
   "id": "c638818f-943f-4510-b2d0-e700453a53b5",
   "metadata": {},
   "outputs": [
    {
     "name": "stdout",
     "output_type": "stream",
     "text": [
      "my_QR better overall, preferred in  100  trials out of  100 \n",
      " average difference of  1.0288654158902067e-09  max discrepancy of  8.695966162184334e-08\n"
     ]
    }
   ],
   "source": [
    "QR_diff(100, 100)"
   ]
  },
  {
   "cell_type": "code",
   "execution_count": null,
   "id": "88d3dafc-ea45-4e3f-9f43-fbfdc15187d6",
   "metadata": {},
   "outputs": [],
   "source": []
  },
  {
   "cell_type": "code",
   "execution_count": null,
   "id": "69141c85-3673-485f-b672-cbf2e60a5fa5",
   "metadata": {},
   "outputs": [],
   "source": []
  }
 ],
 "metadata": {
  "kernelspec": {
   "display_name": "Python 3 (ipykernel)",
   "language": "python",
   "name": "python3"
  },
  "language_info": {
   "codemirror_mode": {
    "name": "ipython",
    "version": 3
   },
   "file_extension": ".py",
   "mimetype": "text/x-python",
   "name": "python",
   "nbconvert_exporter": "python",
   "pygments_lexer": "ipython3",
   "version": "3.10.12"
  }
 },
 "nbformat": 4,
 "nbformat_minor": 5
}
