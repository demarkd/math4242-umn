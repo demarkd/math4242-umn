{
 "cells": [
  {
   "cell_type": "markdown",
   "id": "844a3dad",
   "metadata": {},
   "source": [
    "# Activity 3: Gaussian Elimination II: Solving general systems\n",
    "\n",
    "In this activity, we'll expand on our work from last time to give a more flexible form of our Gaussian Elimination routines and solve linear systems in greater generality."
   ]
  },
  {
   "cell_type": "code",
   "execution_count": null,
   "id": "fb99813b",
   "metadata": {},
   "outputs": [],
   "source": [
    "import numpy as np"
   ]
  },
  {
   "cell_type": "markdown",
   "id": "2f3f10fb",
   "metadata": {},
   "source": [
    "## Reminder: `while` loops\n",
    "You may have gotten through the last activity only using `for` loops. In this activity, you may find it more convenient to use `while` loops. These have the advantage of terminating immediately when a specified condition is met and a possible disadvantage of requiring you to increment your parameters manually.\n",
    "\n",
    "As a demonstration, below is a function which adds up half of all the entries of a list of integers before the first odd entry, printing the running total each time."
   ]
  },
  {
   "cell_type": "code",
   "execution_count": null,
   "id": "f09c4b3b",
   "metadata": {},
   "outputs": [],
   "source": [
    "def add_up_starting_evens(l):\n",
    "    tot=0 #initialize sum\n",
    "    even_found=False #initialize Boolean which will eventually terminate our while loop\n",
    "    j=0 #initialize our incremental parameter\n",
    "    while even_found==False:\n",
    "        if l[j] % 2 == 0: #if the j'th entry is even\n",
    "            tot=tot+l[j]//2 #add half the j'th entry to tot\n",
    "            print(tot,\",\", end =\" \") #print our running total\n",
    "            j+=1 #increment j by 1-- this is equivalent to \"j=j+1\"\n",
    "        else: #if j'th entry is odd\n",
    "            even_found=True\n",
    "    return tot"
   ]
  },
  {
   "cell_type": "code",
   "execution_count": null,
   "id": "11036ea9",
   "metadata": {},
   "outputs": [],
   "source": [
    "add_up_starting_evens([2,4,8,26,15,98,96,90])"
   ]
  },
  {
   "cell_type": "code",
   "execution_count": null,
   "id": "82b79708",
   "metadata": {},
   "outputs": [],
   "source": [
    "add_up_starting_evens([1,4,4,4,4,4,4,4,4,4,4,4,4])"
   ]
  },
  {
   "cell_type": "code",
   "execution_count": null,
   "id": "7268923e",
   "metadata": {},
   "outputs": [],
   "source": [
    "add_up_starting_evens([4,4,4,4,4,4,4,4,4,4,4,4,1])"
   ]
  },
  {
   "cell_type": "markdown",
   "id": "19c71f61",
   "metadata": {},
   "source": [
    "Your turn: Use a `while` loop to write a function which takes a positive integer `n` for input and performs the following repeated Collatz process:\n",
    "- if  `n` is even, replace `n` with `n//2` and `print` it\n",
    "- if `n` is odd and not equal to 1, replace `n` with `3*n+1` and `print` it \n",
    "- if `n` is 1, terminate the `program` and return the number of steps it took to get there (recorded as `nsteps`).\n",
    "It's a somewhat famous unsolved problem to show that this process terminates!\n",
    "\n",
    "To make sure your output is readable, use the following `print` command: `print(n,\",\", end =\" \")`. This makes it so that each `print` is not on its own line.\n",
    "\n",
    "You might want to take a moment to think about how to do this with `while` loops. One idea is to use a Boolean like the example above, but you can also quantify a `while` loop more directly with any equation or inequality--is there something involving `n` that will work?"
   ]
  },
  {
   "cell_type": "code",
   "execution_count": null,
   "id": "46cb6cf5",
   "metadata": {},
   "outputs": [],
   "source": [
    "def my_collatz():\n",
    "#YOUR CODE HERE\n",
    "    return "
   ]
  },
  {
   "cell_type": "code",
   "execution_count": null,
   "id": "a9e21739",
   "metadata": {},
   "outputs": [],
   "source": [
    "#Testing\n",
    "my_collatz(99)\n",
    "#Desired output:\n",
    "#298 , 149 , 448 , 224 , 112 , 56 , 28 , 14 , 7 , 22 , 11 , 34 , 17 , 52 , 26 , 13 , 40 , 20 , 10 , 5 , 16 , 8 , 4 , 2 , 1 , \n",
    "\n",
    "# 25"
   ]
  },
  {
   "cell_type": "markdown",
   "id": "f75fd5b3",
   "metadata": {},
   "source": [
    "## Exercise 1: The Permuted LU Factorization\n",
    "In the previous activity, we saw how to compute an $LU$ factorization of $A$ when $A$ is *regular*. \n",
    "\n",
    "Now, we'll promote that to all nonsingular matrices with the $PA=LU$ factorization.\n",
    "\n",
    "First, we may want some way of generating elementary permutation matrices. One way you might do that is by using slicing over a list of rows. That is, (for instance) `A[[1,3]]` would give the second and fourth rows of `A`, and `A[[3,1]]` gives the fourth and second rows (in that order), each as a view (rather than a copy).\n",
    "\n",
    "Now, use that (or any other method) to give a function generating the `n`-by-`n` permutation matrix which swaps rows `i` and `j`. As another reminder, `np.identity(n)` gives the `n`-by-`n` identity matrix."
   ]
  },
  {
   "cell_type": "code",
   "execution_count": null,
   "id": "a2a79bf8",
   "metadata": {},
   "outputs": [],
   "source": [
    "def perm_matrix():\n",
    "#YOUR CODE HERE\n",
    "    return E"
   ]
  },
  {
   "cell_type": "markdown",
   "id": "989e85f7",
   "metadata": {},
   "source": [
    "Now, let's build our $PA=LU$ function, starting with your `my_LU` from activity 2. Your function should take a matrix `A` as input and give a tuple of matrices `(P,L,U)` as output where $LU$ form an LU factorization of the matrix $PA$. \n",
    "The process for computing the factorization is on pages 28-29 of Olver-Shakiban.\n",
    "You may do this however you wish, but the following suggestions may be useful:\n",
    "\n",
    "\n",
    "- You may want to make use of *subroutines*, that is, functions which exist only in service of a bigger function. One which may be useful is a pivoting routine -- let's call it `swapper`. This should implement the pivoting process described in the paragraph beneath Theorem 1.11 in Olver-Shakiban.\n",
    "\n",
    "  - In particular, `swapper` should take as input your partially computed `P`, `L` and `U` as well as rows `i` and `k` to swap (where `i<j`). The output should be a now-pivoted `P`, `L`, and `U`.\n",
    "   - Implementing pivoting for `P` and `U` is as simple as multiplying by the correct elementary permutation matrix to swap rows `i` and `k,`. Handling `L` is more delicate. \n",
    "   <details>\n",
    "    <summary> <b> Hint:</b> (Click here to expand) </summary>\n",
    "    Letting $P_{ik}$ be the elementary matrix in question, the pivoted form of $L$ is equal to $P_{ik}(L-I)+I$ where $I$ is the $n\\times n $ identity matrix. Can you use that in your implementation? (This is not the only way to accomplish this)\n",
    "    </details>\n",
    "- With `swapper` in hand, we now modify our `my_LU` function to give a $PA=LU$ factorization.\n",
    "  - After exercise 1 of activity 2, your `my_LU` should `raise` an `Exception` when a diagonal entry zero. Now instead, when looking for a pivot in row `i` and finding `U[i][i]=0`, you should look to pivot by checking for nonzero entries below your diagonal.\n",
    "  <details>\n",
    "    <summary> <b> Hint:</b> (Click here to expand) </summary>\n",
    "    \n",
    "    One way to do this is with a while loop. Let ``k`` be the parameter determining which row below row ``i`` we are checking. Initialize a boolean (let's call it ``swapped``) with ``swapped=False`` and then set up a while loop over the condition that ``k<n`` (so that we don't attempt to check beneath the bottom row) and  ``swapped=False`` (so that we don't redundantly swap multiple times. Once you find a nonzero entry, employ swapper to implement the swap.\n",
    "    </details>After"
   ]
  },
  {
   "cell_type": "code",
   "execution_count": null,
   "id": "0c2a2182",
   "metadata": {},
   "outputs": [],
   "source": [
    "def elem_matrix():\n",
    "#YOUR CODE HERE\n",
    "    return \n",
    "def swapper(): #OPTIONAL (if you wish to follow the outline)\n",
    "#YOUR CODE HERE\n",
    "    return \n",
    "def my_PLU():\n",
    "#YOUR CODE HERE\n",
    "    return "
   ]
  },
  {
   "cell_type": "code",
   "execution_count": null,
   "id": "d691cac8",
   "metadata": {},
   "outputs": [],
   "source": [
    "#testing\n",
    "A1=np.array([[ 1.,  2., -1.,  0.],\n",
    "            [-1., -2., 11., 11.],\n",
    "            [ 1.,  3.,  2.,  1.],\n",
    "            [ 2.,  5., -4., -5.]],\"float64\")\n",
    "(P1,L1,U1)=my_PLU(A1)\n",
    "print(\"P1=\\n\",P1,\"\\nL1=\\n\",L1,\"\\nU1=\\n\",U1,\"\\nP1A1=L1U1?\\n\", np.array_equal(np.dot(P1,A1),np.dot(L1,U1)))\n",
    "#Possible desired output:\n",
    "#P=\n",
    "# [[1. 0. 0. 0.]\n",
    "# [0. 0. 1. 0.]\n",
    "# [0. 1. 0. 0.]\n",
    "# [0. 0. 0. 1.]] \n",
    "#L=\n",
    "# [[ 1.   0.   0.   0. ]\n",
    "# [ 1.   1.   0.   0. ]\n",
    "# [-1.   0.   1.   0. ]\n",
    "# [ 2.   1.  -0.5  1. ]] \n",
    "#U=\n",
    "# [[ 1.   2.  -1.   0. ]\n",
    "# [ 0.   1.   3.   1. ]\n",
    "# [ 0.   0.  10.  11. ]\n",
    "# [ 0.   0.   0.  -0.5]] \n",
    "#PA=LU?\n",
    "# True"
   ]
  },
  {
   "cell_type": "markdown",
   "id": "b5f07f11",
   "metadata": {},
   "source": [
    "## Exercise 2: General systems\n",
    "Now, we'll expand our `my_PLU` to handle general homogeneous systems. That is, so far we have assumed square input matrix `A`. Now, expand `my_PLU` to give a $PA=LU$ factorization for an $n\\times m$ matrix `A` which is not assumed to be full rank (here, U is assumed only to be REF) <details>\n",
    "    <summary> <b> Hints:</b> (Click here to expand) </summary>\n",
    "\n",
    "- Recall the general idea of finding the REF form of a matrix: you work down and to the right finding pivots and clearing out beneath them. You know you are done when either you have found and cleared out below $n-1$ pivots or when you have exhausted every column.\n",
    "- You will likely want to use parameters `i` and `j` to record the row and column of the entry you are checking as a pivot.\n",
    "- For your main loop (finding pivots--very likely a `while` loop), what stop condition implements the stop condition described above?\n",
    "       <details>\n",
    "           <summary> <b> Hint: </b> (click here to expand) </summary>      \n",
    "           `while i<n-1 and j<m`\n",
    "    </details>\n",
    "-   Your subloop for implementing row-swaps can likely go unchanged  \n",
    "    \n",
    "    </details>"
   ]
  },
  {
   "cell_type": "code",
   "execution_count": null,
   "id": "8aca6912",
   "metadata": {},
   "outputs": [],
   "source": [
    "def my_REF():\n",
    "#YOUR CODE HERE\n",
    "    return "
   ]
  },
  {
   "cell_type": "code",
   "execution_count": null,
   "id": "4570ffc8",
   "metadata": {},
   "outputs": [],
   "source": [
    "#testing\n",
    "A2=np.array([[  8.,  12.,   -6.,  92., -20.],\n",
    "            [  2.,   3.,   5.,  14.,  11.],\n",
    "            [ -4.,  -6.,   3., -54.,  22.]],\"float64\")\n",
    "(P2,L2,U2)=my_REF(A2)\n",
    "print(\"P2=\\n\",P2,\"\\nL2=\\n\",L2,\"\\nU2=\\n\",U2,\"\\nP2A2=L2U2?\\n\", np.array_equal(np.dot(P2,A2),np.dot(L2,U2)))\n",
    "#Desired output:\n",
    "#P2=\n",
    "# [[1. 0. 0.]\n",
    "# [0. 1. 0.]\n",
    "# [0. 0. 1.]] \n",
    "#L2=\n",
    "# [[ 1.    0.    0.  ]\n",
    "# [ 0.25  1.    0.  ]\n",
    "# [-0.5   0.    1.  ]] \n",
    "#U2=\n",
    "# [[  8.   12.   -6.   92.  -20. ]\n",
    "# [  0.    0.    6.5  -9.   16. ]\n",
    "# [  0.    0.    0.   -8.   12. ]] \n",
    "#P2A2=L2U2?\n",
    "# True"
   ]
  },
  {
   "cell_type": "code",
   "execution_count": null,
   "id": "279d9510",
   "metadata": {
    "scrolled": true
   },
   "outputs": [],
   "source": [
    "#testing\n",
    "A3=np.array([[1,2,2,-1,0,0],\n",
    "            [-1,-2,-2,1,0,0],\n",
    "            [1,2,3,2,3,2],\n",
    "            [-2,-4,-7,-12,-14,-12]],\"float64\")\n",
    "(P3,L3,U3)=my_REF(A3)\n",
    "print(\"P3=\\n\",P3,\"\\nL3=\\n\",L3,\"\\nU3=\\n\",U3,\"\\nP3A3=L3U3?\\n\", np.array_equal(np.dot(P3,A3),np.dot(L3,U3)))\n",
    "#Possible Desired Output:\n",
    "#P3=\n",
    "# [[1. 0. 0. 0.]\n",
    "# [0. 0. 1. 0.]\n",
    "# [0. 0. 0. 1.]\n",
    "# [0. 1. 0. 0.]] \n",
    "#L3=\n",
    "# [[ 1.  0.  0.  0.]\n",
    "# [ 1.  1.  0.  0.]\n",
    "# [-2. -3.  1.  0.]\n",
    "# [-1.  0.  0.  1.]] \n",
    "#U3=\n",
    "# [[ 1.  2.  2. -1.  0.  0.]\n",
    "# [ 0.  0.  1.  3.  3.  2.]Now\n",
    "# [ 0.  0.  0. -5. -5. -6.]\n",
    "# [ 0.  0.  0.  0.  0.  0.]] \n",
    "#P3A3=L3U3?\n",
    "# True\n",
    "\n"
   ]
  },
  {
   "cell_type": "markdown",
   "id": "83672c8b",
   "metadata": {},
   "source": [
    "## Exercise 3: RREF and Homogeneous systems\n",
    "**Definition:** A matrix $V$ is said to be in *reduced row echelon form* (RREF) if (i) $V$ is in row echelon form and (ii) each pivot is equal to 1 and is the only nonzero entry of its row.\n",
    "\n",
    "Any matrix $A$ is equivalent to a RREF matrix $V$. To see this, let $U$ be the REF form of $A$. Then, working from the bottom row up, if row $i$ is nonzero with pivot $u_{ij}$, multiply that row by $\\frac{1}{u_{ij}}$ and add appropriate multiples of row $i$ to the rows above it to clear out those entries.  \n",
    "\n",
    "For example, for the REF matrix\n",
    "$$U=\\begin{pmatrix}\n",
    "2 & 4 & 5 & 14 & 11 \\\\\n",
    "0 & 0 & -2 & 4 & -6 \\\\\n",
    "0 & 0 & 0 & 0 & -10 \\\\\n",
    "\\end{pmatrix},$$\n",
    "its RREF form would be\n",
    "$$V=\\begin{pmatrix}\n",
    "1 & 2 & 0 & 12 & 0 \\\\\n",
    "0 & 0 & 1 & -2 & 0 \\\\\n",
    "0 & 0 & 0 & 0 & 1 \\\\\n",
    "\\end{pmatrix}.$$\n",
    "\n",
    "\n",
    "<b> (a) </b> We've now worked all the way through finding REF forms of very general systems. Now, write a function `RREFify` which takes as input a REF matrix `U` and gives as output an RREF matrix `V`. Then, write a wrapper `my_RREF` which takes a general matrix `A` and (using `my_REF` and `my_RREFify`) gives the RREF form `V`."
   ]
  },
  {
   "cell_type": "code",
   "execution_count": null,
   "id": "2f923bbe",
   "metadata": {},
   "outputs": [],
   "source": [
    "def RREFify():\n",
    "#YOUR CODE HERE\n",
    "    return \n",
    "def my_RREF():\n",
    "#YOUR CODE HERE\n",
    "    return "
   ]
  },
  {
   "cell_type": "code",
   "execution_count": null,
   "id": "7a27bdc7",
   "metadata": {},
   "outputs": [],
   "source": [
    "#testing\n",
    "U=np.array([[2,4,5,14,11],\n",
    "            [0,0,-2,4,-6],\n",
    "            [0,0,0,0,-10]],\"float64\")\n",
    "RREFify(U)\n",
    "#Desired Output:\n",
    "#array([[ 1.,  2.,  0., 12.,  0.],\n",
    "#       [-0., -0.,  1., -2., -0.],\n",
    "#       [-0., -0., -0., -0.,  1.]])"
   ]
  },
  {
   "cell_type": "markdown",
   "id": "081b4b87",
   "metadata": {},
   "source": [
    "<b> (b) Challenge! </b> Use this to give the space solutions to the homogeneous system of equations represented by a matrix `A`. Present your answer as an array `B`, the columns of which generate the solution space.\n",
    "\n",
    "<details>\n",
    "    <summary>\n",
    "        <b>Hint</b>: (click here to open) </summary>\n",
    "    \n",
    "- You might find it handy to have some way of generating a list of pivots/free variables of an RREF matrix. This could be accomplished with a subroutine, or by simply modifying ```RREFify```.\n",
    "    </details>"
   ]
  },
  {
   "cell_type": "code",
   "execution_count": null,
   "id": "1f29c30e",
   "metadata": {},
   "outputs": [],
   "source": [
    "def my_kernel(A):\n",
    "#YOUR CODE HERE\n",
    "    return B"
   ]
  },
  {
   "cell_type": "code",
   "execution_count": null,
   "id": "0a35d08e",
   "metadata": {},
   "outputs": [],
   "source": [
    "#Testing\n",
    "A4=np.array([[ 1.,  2.,  3.,  4.,  5.],\n",
    "             [ 2.,  4., 10., 14., 18.],\n",
    "             [ 9., 18., 27., 36., 45.]],\"float64\")\n",
    "B4=my_kernel(A4)\n",
    "print(\"B4=\\n\",B4)\n",
    "print(\"A4B4=\\n\",np.dot(A4,B4)) #check we actually get zero"
   ]
  },
  {
   "cell_type": "code",
   "execution_count": null,
   "id": "e86b9071-17db-4bcd-8941-cca625da8593",
   "metadata": {},
   "outputs": [],
   "source": []
  }
 ],
 "metadata": {
  "kernelspec": {
   "display_name": "Python 3 (ipykernel)",
   "language": "python",
   "name": "python3"
  },
  "language_info": {
   "codemirror_mode": {
    "name": "ipython",
    "version": 3
   },
   "file_extension": ".py",
   "mimetype": "text/x-python",
   "name": "python",
   "nbconvert_exporter": "python",
   "pygments_lexer": "ipython3",
   "version": "3.10.12"
  }
 },
 "nbformat": 4,
 "nbformat_minor": 5
}
